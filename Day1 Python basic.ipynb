{
 "cells": [
  {
   "cell_type": "code",
   "execution_count": 1,
   "id": "1362a3db",
   "metadata": {},
   "outputs": [
    {
     "name": "stdout",
     "output_type": "stream",
     "text": [
      "Hello and welocome to all\n"
     ]
    }
   ],
   "source": [
    "print(\"Hello and welcome to all\")"
   ]
  },
  {
   "cell_type": "code",
   "execution_count": 2,
   "id": "d03a95fa",
   "metadata": {},
   "outputs": [],
   "source": [
    "#anaconda and github installation and login"
   ]
  },
  {
   "cell_type": "code",
   "execution_count": null,
   "id": "9f4f757e",
   "metadata": {},
   "outputs": [],
   "source": []
  }
 ],
 "metadata": {
  "kernelspec": {
   "display_name": "Python 3 (ipykernel)",
   "language": "python",
   "name": "python3"
  },
  "language_info": {
   "codemirror_mode": {
    "name": "ipython",
    "version": 3
   },
   "file_extension": ".py",
   "mimetype": "text/x-python",
   "name": "python",
   "nbconvert_exporter": "python",
   "pygments_lexer": "ipython3",
   "version": "3.9.12"
  }
 },
 "nbformat": 4,
 "nbformat_minor": 5
}
